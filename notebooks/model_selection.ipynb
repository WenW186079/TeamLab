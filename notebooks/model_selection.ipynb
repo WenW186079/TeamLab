{
 "cells": [
  {
   "cell_type": "markdown",
   "id": "4fb375d7",
   "metadata": {},
   "source": [
    "# Loading data"
   ]
  },
  {
   "cell_type": "code",
   "execution_count": 33,
   "id": "6c6abb9a",
   "metadata": {},
   "outputs": [
    {
     "name": "stdout",
     "output_type": "stream",
     "text": [
      "Requirement already satisfied: seaborn in /Users/wenwen/anaconda3/lib/python3.10/site-packages (0.13.2)\n",
      "Requirement already satisfied: numpy!=1.24.0,>=1.20 in /Users/wenwen/anaconda3/lib/python3.10/site-packages (from seaborn) (1.24.3)\n",
      "Requirement already satisfied: pandas>=1.2 in /Users/wenwen/anaconda3/lib/python3.10/site-packages (from seaborn) (2.0.1)\n",
      "Requirement already satisfied: matplotlib!=3.6.1,>=3.4 in /Users/wenwen/anaconda3/lib/python3.10/site-packages (from seaborn) (3.7.1)\n",
      "Requirement already satisfied: fonttools>=4.22.0 in /Users/wenwen/anaconda3/lib/python3.10/site-packages (from matplotlib!=3.6.1,>=3.4->seaborn) (4.25.0)\n",
      "Requirement already satisfied: pyparsing>=2.3.1 in /Users/wenwen/anaconda3/lib/python3.10/site-packages (from matplotlib!=3.6.1,>=3.4->seaborn) (3.0.9)\n",
      "Requirement already satisfied: kiwisolver>=1.0.1 in /Users/wenwen/anaconda3/lib/python3.10/site-packages (from matplotlib!=3.6.1,>=3.4->seaborn) (1.4.4)\n",
      "Requirement already satisfied: cycler>=0.10 in /Users/wenwen/anaconda3/lib/python3.10/site-packages (from matplotlib!=3.6.1,>=3.4->seaborn) (0.11.0)\n",
      "Requirement already satisfied: contourpy>=1.0.1 in /Users/wenwen/anaconda3/lib/python3.10/site-packages (from matplotlib!=3.6.1,>=3.4->seaborn) (1.0.5)\n",
      "Requirement already satisfied: python-dateutil>=2.7 in /Users/wenwen/anaconda3/lib/python3.10/site-packages (from matplotlib!=3.6.1,>=3.4->seaborn) (2.8.2)\n",
      "Requirement already satisfied: pillow>=6.2.0 in /Users/wenwen/anaconda3/lib/python3.10/site-packages (from matplotlib!=3.6.1,>=3.4->seaborn) (9.4.0)\n",
      "Requirement already satisfied: packaging>=20.0 in /Users/wenwen/anaconda3/lib/python3.10/site-packages (from matplotlib!=3.6.1,>=3.4->seaborn) (23.0)\n",
      "Requirement already satisfied: tzdata>=2022.1 in /Users/wenwen/anaconda3/lib/python3.10/site-packages (from pandas>=1.2->seaborn) (2023.3)\n",
      "Requirement already satisfied: pytz>=2020.1 in /Users/wenwen/anaconda3/lib/python3.10/site-packages (from pandas>=1.2->seaborn) (2022.7)\n",
      "Requirement already satisfied: six>=1.5 in /Users/wenwen/anaconda3/lib/python3.10/site-packages (from python-dateutil>=2.7->matplotlib!=3.6.1,>=3.4->seaborn) (1.16.0)\n",
      "Note: you may need to restart the kernel to use updated packages.\n"
     ]
    }
   ],
   "source": [
    "pip install seaborn"
   ]
  },
  {
   "cell_type": "code",
   "execution_count": 34,
   "id": "9dd59e6b",
   "metadata": {},
   "outputs": [
    {
     "name": "stdout",
     "output_type": "stream",
     "text": [
      "Requirement already satisfied: gensim in /Users/wenwen/anaconda3/lib/python3.10/site-packages (4.3.2)\n",
      "Requirement already satisfied: smart-open>=1.8.1 in /Users/wenwen/anaconda3/lib/python3.10/site-packages (from gensim) (7.0.4)\n",
      "Requirement already satisfied: numpy>=1.18.5 in /Users/wenwen/anaconda3/lib/python3.10/site-packages (from gensim) (1.24.3)\n",
      "Requirement already satisfied: scipy>=1.7.0 in /Users/wenwen/anaconda3/lib/python3.10/site-packages (from gensim) (1.11.3)\n",
      "Requirement already satisfied: wrapt in /Users/wenwen/anaconda3/lib/python3.10/site-packages (from smart-open>=1.8.1->gensim) (1.14.1)\n",
      "Note: you may need to restart the kernel to use updated packages.\n"
     ]
    }
   ],
   "source": [
    "pip install gensim"
   ]
  },
  {
   "cell_type": "code",
   "execution_count": 35,
   "id": "4bba9295",
   "metadata": {},
   "outputs": [],
   "source": [
    "from gensim.models import Word2Vec\n",
    "from sklearn.metrics import accuracy_score\n",
    "import numpy as np\n",
    "import pandas as pd\n",
    "import tarfile\n",
    "import os\n",
    "import json\n",
    "from sklearn.feature_extraction.text import CountVectorizer\n",
    "import matplotlib.pyplot as plt\n",
    "from sklearn.feature_extraction.text import TfidfVectorizer\n",
    "from sklearn.svm import SVC\n",
    "from sklearn.naive_bayes import MultinomialNB\n",
    "from sklearn.pipeline import Pipeline\n",
    "import seaborn as sns\n",
    "from sklearn.model_selection import cross_val_score\n",
    "from sklearn.ensemble import RandomForestClassifier\n",
    "from sklearn.svm import LinearSVC\n",
    "from sklearn.linear_model import LogisticRegression\n",
    "from sklearn.naive_bayes import MultinomialNB"
   ]
  },
  {
   "cell_type": "code",
   "execution_count": 36,
   "id": "b87f484c",
   "metadata": {},
   "outputs": [
    {
     "name": "stderr",
     "output_type": "stream",
     "text": [
      "[nltk_data] Downloading package punkt to /Users/wenwen/nltk_data...\n",
      "[nltk_data]   Package punkt is already up-to-date!\n",
      "[nltk_data] Downloading package stopwords to\n",
      "[nltk_data]     /Users/wenwen/nltk_data...\n",
      "[nltk_data]   Package stopwords is already up-to-date!\n"
     ]
    },
    {
     "data": {
      "text/plain": [
       "True"
      ]
     },
     "execution_count": 36,
     "metadata": {},
     "output_type": "execute_result"
    }
   ],
   "source": [
    "import nltk\n",
    "from nltk.tokenize import word_tokenize\n",
    "from nltk.corpus import stopwords\n",
    "import string\n",
    "nltk.download('punkt')\n",
    "nltk.download('stopwords')"
   ]
  },
  {
   "cell_type": "code",
   "execution_count": 37,
   "id": "b162cecf",
   "metadata": {},
   "outputs": [],
   "source": [
    "def read_json(file_path):\n",
    "    data = []\n",
    "    with open(file_path, 'r') as file:\n",
    "        for line in file:\n",
    "            data.append(json.loads(line))\n",
    "    \n",
    "    return data"
   ]
  },
  {
   "cell_type": "code",
   "execution_count": 38,
   "id": "5f81d7a7",
   "metadata": {},
   "outputs": [],
   "source": [
    "train_file_path = \"./age/en/en.train.json\"\n",
    "train_data=read_json(train_file_path)"
   ]
  },
  {
   "cell_type": "code",
   "execution_count": 39,
   "id": "55116818",
   "metadata": {},
   "outputs": [],
   "source": [
    "test_file_path = \"./age/en/en.test.json\"\n",
    "test_data=read_json(test_file_path)"
   ]
  },
  {
   "cell_type": "code",
   "execution_count": 40,
   "id": "7c67f200",
   "metadata": {},
   "outputs": [
    {
     "data": {
      "text/html": [
       "<div>\n",
       "<style scoped>\n",
       "    .dataframe tbody tr th:only-of-type {\n",
       "        vertical-align: middle;\n",
       "    }\n",
       "\n",
       "    .dataframe tbody tr th {\n",
       "        vertical-align: top;\n",
       "    }\n",
       "\n",
       "    .dataframe thead th {\n",
       "        text-align: right;\n",
       "    }\n",
       "</style>\n",
       "<table border=\"1\" class=\"dataframe\">\n",
       "  <thead>\n",
       "    <tr style=\"text-align: right;\">\n",
       "      <th></th>\n",
       "      <th>gender</th>\n",
       "      <th>age</th>\n",
       "      <th>id</th>\n",
       "      <th>text</th>\n",
       "      <th>age_exact</th>\n",
       "    </tr>\n",
       "  </thead>\n",
       "  <tbody>\n",
       "    <tr>\n",
       "      <th>0</th>\n",
       "      <td>male</td>\n",
       "      <td>40s</td>\n",
       "      <td>238</td>\n",
       "      <td>Not the best overall service.</td>\n",
       "      <td>42</td>\n",
       "    </tr>\n",
       "    <tr>\n",
       "      <th>1</th>\n",
       "      <td>male</td>\n",
       "      <td>40s</td>\n",
       "      <td>239</td>\n",
       "      <td>Since it is the #1 social network however with...</td>\n",
       "      <td>42</td>\n",
       "    </tr>\n",
       "    <tr>\n",
       "      <th>2</th>\n",
       "      <td>male</td>\n",
       "      <td>40s</td>\n",
       "      <td>240</td>\n",
       "      <td>Not only that you can find anything, but its r...</td>\n",
       "      <td>42</td>\n",
       "    </tr>\n",
       "    <tr>\n",
       "      <th>3</th>\n",
       "      <td>male</td>\n",
       "      <td>40s</td>\n",
       "      <td>241</td>\n",
       "      <td>I'm always satisfied with their level of servi...</td>\n",
       "      <td>42</td>\n",
       "    </tr>\n",
       "    <tr>\n",
       "      <th>4</th>\n",
       "      <td>male</td>\n",
       "      <td>30s</td>\n",
       "      <td>242</td>\n",
       "      <td>On time, nice chap and worked like a pro - Ver...</td>\n",
       "      <td>32</td>\n",
       "    </tr>\n",
       "  </tbody>\n",
       "</table>\n",
       "</div>"
      ],
      "text/plain": [
       "  gender  age   id                                               text  \\\n",
       "0   male  40s  238                      Not the best overall service.   \n",
       "1   male  40s  239  Since it is the #1 social network however with...   \n",
       "2   male  40s  240  Not only that you can find anything, but its r...   \n",
       "3   male  40s  241  I'm always satisfied with their level of servi...   \n",
       "4   male  30s  242  On time, nice chap and worked like a pro - Ver...   \n",
       "\n",
       "   age_exact  \n",
       "0         42  \n",
       "1         42  \n",
       "2         42  \n",
       "3         42  \n",
       "4         32  "
      ]
     },
     "execution_count": 40,
     "metadata": {},
     "output_type": "execute_result"
    }
   ],
   "source": [
    "df_train = pd.DataFrame(train_data)\n",
    "df_train.head()"
   ]
  },
  {
   "cell_type": "code",
   "execution_count": 41,
   "id": "a56a4cfb",
   "metadata": {},
   "outputs": [
    {
     "data": {
      "text/plain": [
       "4866"
      ]
     },
     "execution_count": 41,
     "metadata": {},
     "output_type": "execute_result"
    }
   ],
   "source": [
    "df_train = df_train[df_train[\"age\"]!= \"80s\"]\n",
    "df_train = df_train[df_train[\"age\"]!= \"90s\"]\n",
    "df_train = df_train[df_train[\"age\"]!= \"100s\"]\n",
    "df_train = df_train[df_train[\"age\"]!= \"110s\"]\n",
    "len(df_train)"
   ]
  },
  {
   "cell_type": "code",
   "execution_count": 42,
   "id": "691ed711",
   "metadata": {},
   "outputs": [
    {
     "data": {
      "text/html": [
       "<div>\n",
       "<style scoped>\n",
       "    .dataframe tbody tr th:only-of-type {\n",
       "        vertical-align: middle;\n",
       "    }\n",
       "\n",
       "    .dataframe tbody tr th {\n",
       "        vertical-align: top;\n",
       "    }\n",
       "\n",
       "    .dataframe thead th {\n",
       "        text-align: right;\n",
       "    }\n",
       "</style>\n",
       "<table border=\"1\" class=\"dataframe\">\n",
       "  <thead>\n",
       "    <tr style=\"text-align: right;\">\n",
       "      <th></th>\n",
       "      <th>gender</th>\n",
       "      <th>age</th>\n",
       "      <th>id</th>\n",
       "      <th>text</th>\n",
       "      <th>age_exact</th>\n",
       "    </tr>\n",
       "  </thead>\n",
       "  <tbody>\n",
       "    <tr>\n",
       "      <th>0</th>\n",
       "      <td>female</td>\n",
       "      <td>50s</td>\n",
       "      <td>0</td>\n",
       "      <td>Used this site many times.  I always start mys...</td>\n",
       "      <td>50</td>\n",
       "    </tr>\n",
       "    <tr>\n",
       "      <th>1</th>\n",
       "      <td>male</td>\n",
       "      <td>30s</td>\n",
       "      <td>1</td>\n",
       "      <td>Great prices!! and the fact that they will mat...</td>\n",
       "      <td>32</td>\n",
       "    </tr>\n",
       "    <tr>\n",
       "      <th>2</th>\n",
       "      <td>male</td>\n",
       "      <td>40s</td>\n",
       "      <td>2</td>\n",
       "      <td>Used Ebay for sales and purchases for the past...</td>\n",
       "      <td>48</td>\n",
       "    </tr>\n",
       "    <tr>\n",
       "      <th>3</th>\n",
       "      <td>male</td>\n",
       "      <td>40s</td>\n",
       "      <td>3</td>\n",
       "      <td>Used Paypal for my buying and selling for the ...</td>\n",
       "      <td>48</td>\n",
       "    </tr>\n",
       "    <tr>\n",
       "      <th>4</th>\n",
       "      <td>male</td>\n",
       "      <td>40s</td>\n",
       "      <td>4</td>\n",
       "      <td>I ordered on April 30 and finally received my ...</td>\n",
       "      <td>48</td>\n",
       "    </tr>\n",
       "  </tbody>\n",
       "</table>\n",
       "</div>"
      ],
      "text/plain": [
       "   gender  age id                                               text  \\\n",
       "0  female  50s  0  Used this site many times.  I always start mys...   \n",
       "1    male  30s  1  Great prices!! and the fact that they will mat...   \n",
       "2    male  40s  2  Used Ebay for sales and purchases for the past...   \n",
       "3    male  40s  3  Used Paypal for my buying and selling for the ...   \n",
       "4    male  40s  4  I ordered on April 30 and finally received my ...   \n",
       "\n",
       "   age_exact  \n",
       "0         50  \n",
       "1         32  \n",
       "2         48  \n",
       "3         48  \n",
       "4         48  "
      ]
     },
     "execution_count": 42,
     "metadata": {},
     "output_type": "execute_result"
    }
   ],
   "source": [
    "df_test = pd.DataFrame(test_data)\n",
    "df_test.head()"
   ]
  },
  {
   "cell_type": "code",
   "execution_count": 43,
   "id": "607fe0bc",
   "metadata": {},
   "outputs": [
    {
     "data": {
      "text/plain": [
       "393"
      ]
     },
     "execution_count": 43,
     "metadata": {},
     "output_type": "execute_result"
    }
   ],
   "source": [
    "df_test = df_test[df_test[\"age\"]!= \"80s\"]\n",
    "df_test = df_test[df_test[\"age\"]!= \"90s\"]\n",
    "df_test = df_test[df_test[\"age\"]!= \"100s\"]\n",
    "df_test = df_test[df_test[\"age\"]!= \"110s\"]\n",
    "len(df_test)"
   ]
  },
  {
   "cell_type": "code",
   "execution_count": 44,
   "id": "eeb9101b",
   "metadata": {},
   "outputs": [
    {
     "name": "stdout",
     "output_type": "stream",
     "text": [
      "      age                                               text\n",
      "0     40s                      Not the best overall service.\n",
      "1     40s  Since it is the #1 social network however with...\n",
      "2     40s  Not only that you can find anything, but its r...\n",
      "3     40s  I'm always satisfied with their level of servi...\n",
      "4     30s  On time, nice chap and worked like a pro - Ver...\n",
      "...   ...                                                ...\n",
      "4991  60s  Having read previous reviews I am surprised at...\n",
      "4992  60s  I intially contacted your customer service dep...\n",
      "4993  60s       Well priced product and arrived very quickly\n",
      "4994  60s   Love the variety of Brands and ease in ordering!\n",
      "4995  70s  I would recommend this web site to anyone want...\n",
      "\n",
      "[4866 rows x 2 columns]\n"
     ]
    }
   ],
   "source": [
    "col = ['age', 'text']\n",
    "df_train= df_train[col]\n",
    "print(df_train)"
   ]
  },
  {
   "cell_type": "code",
   "execution_count": 45,
   "id": "33ad50fa",
   "metadata": {},
   "outputs": [
    {
     "name": "stdout",
     "output_type": "stream",
     "text": [
      "     age                                               text\n",
      "0    50s  Used this site many times.  I always start mys...\n",
      "1    30s  Great prices!! and the fact that they will mat...\n",
      "2    40s  Used Ebay for sales and purchases for the past...\n",
      "3    40s  Used Paypal for my buying and selling for the ...\n",
      "4    40s  I ordered on April 30 and finally received my ...\n",
      "..   ...                                                ...\n",
      "398  70s  I found in all my dealings with Lightinthebox ...\n",
      "399  70s  As I live in middle Italy, I don't travel to t...\n",
      "400  60s  If people don't know, by now, what to expect f...\n",
      "401  60s  Our first experience staying in Croatia in May...\n",
      "402  60s  I was looking for Euros for a forthcoming trip...\n",
      "\n",
      "[393 rows x 2 columns]\n"
     ]
    }
   ],
   "source": [
    "col = ['age', 'text']\n",
    "df_test= df_test[col]\n",
    "print(df_test)"
   ]
  },
  {
   "cell_type": "code",
   "execution_count": 46,
   "id": "e41e0db5",
   "metadata": {},
   "outputs": [],
   "source": [
    "def tokenize_text(text):\n",
    "    return word_tokenize(text)\n",
    "\n",
    "df_train['tokenized_text'] = df_train['text'].apply(tokenize_text)\n",
    "df_test['tokenized_text'] = df_test['text'].apply(tokenize_text)\n",
    "\n",
    "X_train = df_train['tokenized_text']\n",
    "Y_train = df_train['age']\n",
    "X_test = df_test['tokenized_text']\n",
    "Y_test = df_test['age']"
   ]
  },
  {
   "cell_type": "code",
   "execution_count": 47,
   "id": "8a4e531a",
   "metadata": {},
   "outputs": [
    {
     "name": "stdout",
     "output_type": "stream",
     "text": [
      "0                   [Not, the, best, overall, service, .]\n",
      "1       [Since, it, is, the, #, 1, social, network, ho...\n",
      "2       [Not, only, that, you, can, find, anything, ,,...\n",
      "3       [I, 'm, always, satisfied, with, their, level,...\n",
      "4       [On, time, ,, nice, chap, and, worked, like, a...\n",
      "                              ...                        \n",
      "4991    [Having, read, previous, reviews, I, am, surpr...\n",
      "4992    [I, intially, contacted, your, customer, servi...\n",
      "4993    [Well, priced, product, and, arrived, very, qu...\n",
      "4994    [Love, the, variety, of, Brands, and, ease, in...\n",
      "4995    [I, would, recommend, this, web, site, to, any...\n",
      "Name: tokenized_text, Length: 4866, dtype: object\n"
     ]
    }
   ],
   "source": [
    "print(X_train)"
   ]
  },
  {
   "cell_type": "code",
   "execution_count": 48,
   "id": "8f94bb31",
   "metadata": {},
   "outputs": [
    {
     "name": "stdout",
     "output_type": "stream",
     "text": [
      "0       40s\n",
      "1       40s\n",
      "2       40s\n",
      "3       40s\n",
      "4       30s\n",
      "       ... \n",
      "4991    60s\n",
      "4992    60s\n",
      "4993    60s\n",
      "4994    60s\n",
      "4995    70s\n",
      "Name: age, Length: 4866, dtype: object\n"
     ]
    }
   ],
   "source": [
    "print(Y_train)"
   ]
  },
  {
   "cell_type": "code",
   "execution_count": 49,
   "id": "540cd60e",
   "metadata": {},
   "outputs": [],
   "source": [
    "def preprocess_text(tokenized_text):\n",
    "    \n",
    "    tokenized_text = [word for word in tokenized_text if word not in string.punctuation]\n",
    "    tokenized_text = [word.lower() for word in tokenized_text]\n",
    "    stop_words = set(stopwords.words('english'))\n",
    "    tokenized_text = [word for word in tokenized_text if word not in stop_words]\n",
    "    tokenized_text = [word for word in tokenized_text if not word.isdigit()]\n",
    "\n",
    "    return tokenized_text\n",
    "\n",
    "\n",
    "X_train = X_train.apply(preprocess_text)\n",
    "X_test = X_test.apply(preprocess_text)"
   ]
  },
  {
   "cell_type": "code",
   "execution_count": 50,
   "id": "fab7bf8e",
   "metadata": {},
   "outputs": [
    {
     "name": "stdout",
     "output_type": "stream",
     "text": [
      "0                                [best, overall, service]\n",
      "1       [since, social, network, however, take, leave,...\n",
      "2              [find, anything, resources, apps, awesome]\n",
      "3       ['m, always, satisfied, level, service, compet...\n",
      "4       [time, nice, chap, worked, like, pro, happy, s...\n",
      "                              ...                        \n",
      "4991    [read, previous, reviews, surprised, odd, one,...\n",
      "4992    [intially, contacted, customer, service, depar...\n",
      "4993            [well, priced, product, arrived, quickly]\n",
      "4994              [love, variety, brands, ease, ordering]\n",
      "4995    [would, recommend, web, site, anyone, wanting,...\n",
      "Name: tokenized_text, Length: 4866, dtype: object\n"
     ]
    }
   ],
   "source": [
    "print(X_train)"
   ]
  },
  {
   "cell_type": "code",
   "execution_count": 51,
   "id": "120fcf97",
   "metadata": {},
   "outputs": [
    {
     "name": "stdout",
     "output_type": "stream",
     "text": [
      "0       40s\n",
      "1       40s\n",
      "2       40s\n",
      "3       40s\n",
      "4       30s\n",
      "       ... \n",
      "4991    60s\n",
      "4992    60s\n",
      "4993    60s\n",
      "4994    60s\n",
      "4995    70s\n",
      "Name: age, Length: 4866, dtype: object\n"
     ]
    }
   ],
   "source": [
    "print(Y_train)"
   ]
  },
  {
   "cell_type": "markdown",
   "id": "5f0a1963",
   "metadata": {},
   "source": [
    "# Tf-idf as Embedding"
   ]
  },
  {
   "cell_type": "code",
   "execution_count": 52,
   "id": "5353efde",
   "metadata": {},
   "outputs": [
    {
     "name": "stdout",
     "output_type": "stream",
     "text": [
      "Random Forest: Accuracy = 0.2875318066157761\n",
      "SVM: Accuracy = 0.3053435114503817\n",
      "Naive Bayes: Accuracy = 0.2544529262086514\n"
     ]
    }
   ],
   "source": [
    "def join_tokens(tokens):\n",
    "    return ' '.join(tokens)\n",
    "\n",
    "X_train_str = X_train.apply(join_tokens)\n",
    "X_test_str = X_test.apply(join_tokens)\n",
    "\n",
    "tfidf_vectorizer = TfidfVectorizer()\n",
    "\n",
    "X_train_tfidf = tfidf_vectorizer.fit_transform(X_train_str)\n",
    "X_test_tfidf = tfidf_vectorizer.transform(X_test_str)\n",
    "\n",
    "models = {\n",
    "    \"Random Forest\": RandomForestClassifier(),\n",
    "    \"SVM\": SVC(),\n",
    "    \"Naive Bayes\": MultinomialNB()\n",
    "}\n",
    "\n",
    "results = {}\n",
    "for name, model in models.items():\n",
    "    model.fit(X_train_tfidf, Y_train)\n",
    "    y_pred = model.predict(X_test_tfidf)\n",
    "    acc = accuracy_score(Y_test, y_pred)\n",
    "    results[name] = acc\n",
    "\n",
    "for name, acc in results.items():\n",
    "    print(f\"{name}: Accuracy = {acc}\")"
   ]
  },
  {
   "cell_type": "markdown",
   "id": "cafec197",
   "metadata": {},
   "source": [
    "# Word2vec as Embedding"
   ]
  },
  {
   "cell_type": "code",
   "execution_count": 53,
   "id": "75283a65",
   "metadata": {},
   "outputs": [],
   "source": [
    "def create_word2vec_model(sentences, vector_size=100, window=2, min_count=1):\n",
    "\n",
    "    word2vec_model = Word2Vec(sentences=sentences, vector_size=vector_size, window=window, min_count=min_count)\n",
    "    word2vec_words = set(word2vec_model.wv.index_to_key)\n",
    "\n",
    "    return word2vec_model, word2vec_words"
   ]
  },
  {
   "cell_type": "code",
   "execution_count": 54,
   "id": "45f21e01",
   "metadata": {},
   "outputs": [],
   "source": [
    "word2vec_model_train, word2vec_words_train = create_word2vec_model(X_train)\n",
    "word2vec_model_test, word2vec_words_test = create_word2vec_model(X_test)"
   ]
  },
  {
   "cell_type": "code",
   "execution_count": 55,
   "id": "7b4f03f3",
   "metadata": {},
   "outputs": [],
   "source": [
    "def compute_sentence_vectors(X, word2vec_model):\n",
    "\n",
    "    sentence_vectors = []\n",
    "\n",
    "    for sentence in X:\n",
    "        word_vectors = [word2vec_model.wv[word] for word in sentence if word in word2vec_model.wv]\n",
    "        if word_vectors:\n",
    "            sentence_vector = sum(word_vectors) / len(word_vectors)\n",
    "        else:\n",
    "            sentence_vector = np.zeros(word2vec_model.vector_size)\n",
    "        sentence_vectors.append(sentence_vector)\n",
    "\n",
    "    return sentence_vectors"
   ]
  },
  {
   "cell_type": "code",
   "execution_count": 56,
   "id": "581f88f4",
   "metadata": {},
   "outputs": [],
   "source": [
    "X_train_vectors= compute_sentence_vectors(X_train, word2vec_model_train)\n",
    "X_test_vectors= compute_sentence_vectors(X_test, word2vec_model_test)"
   ]
  },
  {
   "cell_type": "code",
   "execution_count": 57,
   "id": "1b51dfca",
   "metadata": {},
   "outputs": [
    {
     "name": "stderr",
     "output_type": "stream",
     "text": [
      "/Users/wenwen/anaconda3/lib/python3.10/site-packages/sklearn/svm/_classes.py:32: FutureWarning: The default value of `dual` will change from `True` to `'auto'` in 1.5. Set the value of `dual` explicitly to suppress the warning.\n",
      "  warnings.warn(\n",
      "/Users/wenwen/anaconda3/lib/python3.10/site-packages/sklearn/svm/_classes.py:32: FutureWarning: The default value of `dual` will change from `True` to `'auto'` in 1.5. Set the value of `dual` explicitly to suppress the warning.\n",
      "  warnings.warn(\n",
      "/Users/wenwen/anaconda3/lib/python3.10/site-packages/sklearn/svm/_classes.py:32: FutureWarning: The default value of `dual` will change from `True` to `'auto'` in 1.5. Set the value of `dual` explicitly to suppress the warning.\n",
      "  warnings.warn(\n",
      "/Users/wenwen/anaconda3/lib/python3.10/site-packages/sklearn/svm/_classes.py:32: FutureWarning: The default value of `dual` will change from `True` to `'auto'` in 1.5. Set the value of `dual` explicitly to suppress the warning.\n",
      "  warnings.warn(\n",
      "/Users/wenwen/anaconda3/lib/python3.10/site-packages/sklearn/svm/_classes.py:32: FutureWarning: The default value of `dual` will change from `True` to `'auto'` in 1.5. Set the value of `dual` explicitly to suppress the warning.\n",
      "  warnings.warn(\n",
      "/Users/wenwen/anaconda3/lib/python3.10/site-packages/sklearn/linear_model/_logistic.py:460: ConvergenceWarning: lbfgs failed to converge (status=1):\n",
      "STOP: TOTAL NO. of ITERATIONS REACHED LIMIT.\n",
      "\n",
      "Increase the number of iterations (max_iter) or scale the data as shown in:\n",
      "    https://scikit-learn.org/stable/modules/preprocessing.html\n",
      "Please also refer to the documentation for alternative solver options:\n",
      "    https://scikit-learn.org/stable/modules/linear_model.html#logistic-regression\n",
      "  n_iter_i = _check_optimize_result(\n",
      "/Users/wenwen/anaconda3/lib/python3.10/site-packages/sklearn/linear_model/_logistic.py:460: ConvergenceWarning: lbfgs failed to converge (status=1):\n",
      "STOP: TOTAL NO. of ITERATIONS REACHED LIMIT.\n",
      "\n",
      "Increase the number of iterations (max_iter) or scale the data as shown in:\n",
      "    https://scikit-learn.org/stable/modules/preprocessing.html\n",
      "Please also refer to the documentation for alternative solver options:\n",
      "    https://scikit-learn.org/stable/modules/linear_model.html#logistic-regression\n",
      "  n_iter_i = _check_optimize_result(\n",
      "/Users/wenwen/anaconda3/lib/python3.10/site-packages/sklearn/linear_model/_logistic.py:460: ConvergenceWarning: lbfgs failed to converge (status=1):\n",
      "STOP: TOTAL NO. of ITERATIONS REACHED LIMIT.\n",
      "\n",
      "Increase the number of iterations (max_iter) or scale the data as shown in:\n",
      "    https://scikit-learn.org/stable/modules/preprocessing.html\n",
      "Please also refer to the documentation for alternative solver options:\n",
      "    https://scikit-learn.org/stable/modules/linear_model.html#logistic-regression\n",
      "  n_iter_i = _check_optimize_result(\n",
      "/Users/wenwen/anaconda3/lib/python3.10/site-packages/sklearn/linear_model/_logistic.py:460: ConvergenceWarning: lbfgs failed to converge (status=1):\n",
      "STOP: TOTAL NO. of ITERATIONS REACHED LIMIT.\n",
      "\n",
      "Increase the number of iterations (max_iter) or scale the data as shown in:\n",
      "    https://scikit-learn.org/stable/modules/preprocessing.html\n",
      "Please also refer to the documentation for alternative solver options:\n",
      "    https://scikit-learn.org/stable/modules/linear_model.html#logistic-regression\n",
      "  n_iter_i = _check_optimize_result(\n",
      "/Users/wenwen/anaconda3/lib/python3.10/site-packages/sklearn/linear_model/_logistic.py:460: ConvergenceWarning: lbfgs failed to converge (status=1):\n",
      "STOP: TOTAL NO. of ITERATIONS REACHED LIMIT.\n",
      "\n",
      "Increase the number of iterations (max_iter) or scale the data as shown in:\n",
      "    https://scikit-learn.org/stable/modules/preprocessing.html\n",
      "Please also refer to the documentation for alternative solver options:\n",
      "    https://scikit-learn.org/stable/modules/linear_model.html#logistic-regression\n",
      "  n_iter_i = _check_optimize_result(\n",
      "/var/folders/30/gdtz3hy15130sl0mp2smt5fh0000gn/T/ipykernel_42504/156612805.py:23: FutureWarning: Use \"auto\" to set automatic grayscale colors. From v0.14.0, \"gray\" will default to matplotlib's definition.\n",
      "  sns.stripplot(x='model_name', y='accuracy', data=cv_df,\n"
     ]
    },
    {
     "data": {
      "image/png": "[encoded data removed]",
      "text/plain": [
       "<Figure size 1000x600 with 1 Axes>"
      ]
     },
     "metadata": {},
     "output_type": "display_data"
    }
   ],
   "source": [
    "models = [\n",
    "    RandomForestClassifier(n_estimators=200, max_depth=3, random_state=0),\n",
    "    LinearSVC(),\n",
    "    #MultinomialNB(),\n",
    "    LogisticRegression(random_state=0),\n",
    "]\n",
    "CV = 5\n",
    "cv_df = pd.DataFrame()  # Initialize an empty DataFrame\n",
    "entries = []\n",
    "\n",
    "for model in models:\n",
    "    model_name = model.__class__.__name__\n",
    "    accuracies = cross_val_score(model, X_train_vectors, Y_train, scoring='accuracy', cv=CV)\n",
    "    for fold_idx, accuracy in enumerate(accuracies):\n",
    "        entries.append((model_name, fold_idx, accuracy))\n",
    "\n",
    "# Create DataFrame from entries\n",
    "cv_df = pd.DataFrame(entries, columns=['model_name', 'fold_idx', 'accuracy'])\n",
    "\n",
    "# Plotting\n",
    "plt.figure(figsize=(10, 6))\n",
    "sns.boxplot(x='model_name', y='accuracy', data=cv_df)\n",
    "sns.stripplot(x='model_name', y='accuracy', data=cv_df, \n",
    "              size=8, jitter=True, edgecolor=\"gray\", linewidth=2)\n",
    "plt.title('Model Comparison')\n",
    "plt.xlabel('Model')\n",
    "plt.ylabel('Accuracy')\n",
    "plt.xticks(rotation=45)\n",
    "plt.show()\n"
   ]
  },
  {
   "cell_type": "code",
   "execution_count": 58,
   "id": "94e2453f",
   "metadata": {},
   "outputs": [
    {
     "data": {
      "text/plain": [
       "model_name\n",
       "LinearSVC                 0.271480\n",
       "LogisticRegression        0.265107\n",
       "RandomForestClassifier    0.264695\n",
       "Name: accuracy, dtype: float64"
      ]
     },
     "execution_count": 58,
     "metadata": {},
     "output_type": "execute_result"
    }
   ],
   "source": [
    "cv_df.groupby('model_name').accuracy.mean()"
   ]
  },
  {
   "cell_type": "code",
   "execution_count": null,
   "id": "5c3e5da5",
   "metadata": {},
   "outputs": [],
   "source": []
  }
 ],
 "metadata": {
  "kernelspec": {
   "display_name": "Python 3 (ipykernel)",
   "language": "python",
   "name": "python3"
  },
  "language_info": {
   "codemirror_mode": {
    "name": "ipython",
    "version": 3
   },
   "file_extension": ".py",
   "mimetype": "text/x-python",
   "name": "python",
   "nbconvert_exporter": "python",
   "pygments_lexer": "ipython3",
   "version": "3.10.9"
  }
 },
 "nbformat": 4,
 "nbformat_minor": 5
}
